{
 "cells": [
  {
   "cell_type": "markdown",
   "id": "9d04f19a",
   "metadata": {},
   "source": [
    "# DAY 1"
   ]
  },
  {
   "cell_type": "markdown",
   "id": "e742b0b2",
   "metadata": {},
   "source": [
    "## EXERCISE 1"
   ]
  },
  {
   "cell_type": "markdown",
   "id": "152d8ba4",
   "metadata": {},
   "source": [
    "# Welcome to My Jupyter Notebook\n",
    "This notebook demonstrates basic Jupyter Notebook features, including markdown formatting, Python code execution, and magic commands.\n",
    "\n"
   ]
  },
  {
   "cell_type": "markdown",
   "id": "4de29702",
   "metadata": {},
   "source": [
    "# Notebook Features\n",
    "1. Python code execution\n",
    "2. Markdown formatting\n",
    "3. Exporting notebook files\n",
    "\n",
    "- Simple calculations\n",
    "- Using magic commands\n",
    "- Creating tables\n"
   ]
  },
  {
   "cell_type": "code",
   "execution_count": 165,
   "id": "d28e2cdb",
   "metadata": {},
   "outputs": [
    {
     "name": "stdout",
     "output_type": "stream",
     "text": [
      "Hello, welcome zaynabu!\n"
     ]
    }
   ],
   "source": [
    "print(\"Hello, welcome zaynabu!\")"
   ]
  },
  {
   "cell_type": "markdown",
   "id": "57539283",
   "metadata": {},
   "source": [
    "# Learn More\n",
    "[Visit Python Official Documentation](https://docs.python.org/3/)\n",
    "\n",
    "![Python Logo](https://www.python.org/static/community_logos/python-logo.png)\n"
   ]
  },
  {
   "cell_type": "code",
   "execution_count": 120,
   "id": "fe658011",
   "metadata": {},
   "outputs": [
    {
     "name": "stdout",
     "output_type": "stream",
     "text": [
      "Addition: 21 + 9 = 30\n",
      "Subtraction: 21 - 9 = 12\n"
     ]
    }
   ],
   "source": [
    "# Perform addition and subtraction\n",
    "num1 = 21\n",
    "num2 = 9\n",
    "addition = num1 + num2\n",
    "subtraction = num1 - num2\n",
    "\n",
    "print(f\"Addition: {num1} + {num2} = {addition}\")\n",
    "print(f\"Subtraction: {num1} - {num2} = {subtraction}\")\n"
   ]
  },
  {
   "cell_type": "code",
   "execution_count": 121,
   "id": "f650111c",
   "metadata": {},
   "outputs": [
    {
     "name": "stdout",
     "output_type": "stream",
     "text": [
      "Help on built-in function print in module builtins:\n",
      "\n",
      "print(...)\n",
      "    print(value, ..., sep=' ', end='\\n', file=sys.stdout, flush=False)\n",
      "    \n",
      "    Prints the values to a stream, or to sys.stdout by default.\n",
      "    Optional keyword arguments:\n",
      "    file:  a file-like object (stream); defaults to the current sys.stdout.\n",
      "    sep:   string inserted between values, default a space.\n",
      "    end:   string appended after the last value, default a newline.\n",
      "    flush: whether to forcibly flush the stream.\n",
      "\n"
     ]
    }
   ],
   "source": [
    "# Get documentation for the print function\n",
    "help(print)\n"
   ]
  },
  {
   "cell_type": "code",
   "execution_count": 122,
   "id": "afa78c6f",
   "metadata": {},
   "outputs": [
    {
     "name": "stdout",
     "output_type": "stream",
     "text": [
      "Addition: 33\n",
      "Subtraction: 11\n"
     ]
    }
   ],
   "source": [
    "# This section performs basic mathematical operations\n",
    "# Variables num1 and num2 store input values\n",
    "# Results of addition and subtraction are printed below\n",
    "\n",
    "num1 = 22\n",
    "num2 = 11\n",
    "print(\"Addition:\", num1 + num2)\n",
    "print(\"Subtraction:\", num1 - num2)\n"
   ]
  },
  {
   "cell_type": "code",
   "execution_count": 123,
   "id": "2eafcaaa",
   "metadata": {},
   "outputs": [
    {
     "name": "stdout",
     "output_type": "stream",
     "text": [
      "Wall time: 93.9 ms\n",
      "a\t addition\t area\t b\t c\t colors\t colors_tuple\t dict1\t dict2\t \n",
      "discriminant\t float_num\t fruits\t greeting\t int_num\t key\t lang_years\t languages\t merged\t \n",
      "message\t my_dict\t my_list\t my_tuple\t name\t num\t num1\t num2\t numbers\t \n",
      "person\t phyton_score\t radius\t result\t root1\t root2\t score\t set1\t set2\t \n",
      "squares\t str1\t str2\t subtraction\t text\t total\t tup\t unique_numbers\t user_input\t \n",
      "value\t variable\t words\t x\t y\t z\t \n"
     ]
    }
   ],
   "source": [
    "# Measure execution time of a code block\n",
    "%time sum(range(1000000))\n",
    "\n",
    "# List all variables in the current namespace\n",
    "%who\n"
   ]
  },
  {
   "cell_type": "markdown",
   "id": "f93acc5c",
   "metadata": {},
   "source": [
    "|Full_Name      | Age | specialization    |\n",
    "|-----------|-----|---------------|\n",
    "| zainab naseer  | 38  | Data Scientist |\n",
    "| hope bako| 26 | Machine Learning |\n"
   ]
  },
  {
   "cell_type": "code",
   "execution_count": 124,
   "id": "5d62d91c",
   "metadata": {},
   "outputs": [
    {
     "name": "stdout",
     "output_type": "stream",
     "text": [
      "<class 'int'>\n",
      "<class 'float'>\n",
      "<class 'str'>\n",
      "<class 'list'>\n",
      "<class 'dict'>\n"
     ]
    }
   ],
   "source": [
    "# Identifying data types\n",
    "print(type(42))                          # Integer\n",
    "print(type(3.14))                        # Float\n",
    "print(type(\"Python\"))                    # String\n",
    "print(type([1, 2, 3]))                   # List\n",
    "print(type({\"name\": \"John\", \"age\": 30})) # Dictionary\n"
   ]
  },
  {
   "cell_type": "code",
   "execution_count": 11,
   "id": "51fe6021",
   "metadata": {},
   "outputs": [
    {
     "name": "stdout",
     "output_type": "stream",
     "text": [
      "80.0\n",
      "80\n"
     ]
    }
   ],
   "source": [
    "# Convert integer to float and string\n",
    "num = 80\n",
    "print(float(num))  # Convert to float\n",
    "print(str(num))    # Convert to string\n"
   ]
  },
  {
   "cell_type": "code",
   "execution_count": 157,
   "id": "a3f476be",
   "metadata": {},
   "outputs": [
    {
     "name": "stdout",
     "output_type": "stream",
     "text": [
      "<class 'list'>\n"
     ]
    }
   ],
   "source": [
    "# List of favorite fruits\n",
    "fruits = [\"Apple\", \"Banana\", \"Pineapple\", \"Mango\", \"Orange\"]\n",
    "print(type(fruits))  # Print the data type\n"
   ]
  },
  {
   "cell_type": "code",
   "execution_count": 158,
   "id": "e06a08fb",
   "metadata": {},
   "outputs": [
    {
     "name": "stdout",
     "output_type": "stream",
     "text": [
      "The variable is a string.\n"
     ]
    }
   ],
   "source": [
    "# Check if a variable is of type str\n",
    "variable = \"Python\"\n",
    "if isinstance(variable, str):\n",
    "    print(\"The variable is a string.\")\n",
    "else:\n",
    "    print(\"The variable is not a string.\")\n"
   ]
  },
  {
   "cell_type": "code",
   "execution_count": 34,
   "id": "6adef1e9",
   "metadata": {},
   "outputs": [
    {
     "name": "stdout",
     "output_type": "stream",
     "text": [
      "Python\n"
     ]
    }
   ],
   "source": [
    "# Tuple with different data types\n",
    "my_tuple = (42, \"Python\", 3.14)\n",
    "print(my_tuple[1])  # Access the second element\n"
   ]
  },
  {
   "cell_type": "code",
   "execution_count": 18,
   "id": "2984d106",
   "metadata": {},
   "outputs": [
    {
     "name": "stdout",
     "output_type": "stream",
     "text": [
      "25\n"
     ]
    }
   ],
   "source": [
    "# Dictionary with three key-value pairs\n",
    "my_dict = {\"name\": \"Alice\", \"age\": 25, \"city\": \"New York\"}\n",
    "print(my_dict[\"age\"])  # Retrieve the value for the key 'age'\n"
   ]
  },
  {
   "cell_type": "code",
   "execution_count": 19,
   "id": "bbec16ce",
   "metadata": {},
   "outputs": [
    {
     "name": "stdout",
     "output_type": "stream",
     "text": [
      "<class 'int'>\n",
      "<class 'str'>\n",
      "<class 'list'>\n"
     ]
    }
   ],
   "source": [
    "# Verify data types using type()\n",
    "num = 42\n",
    "text = \"Hello\"\n",
    "fruits = [\"Apple\", \"Banana\"]\n",
    "print(type(num))    # Integer\n",
    "print(type(text))   # String\n",
    "print(type(fruits)) # List\n"
   ]
  },
  {
   "cell_type": "code",
   "execution_count": 20,
   "id": "729cbdbc",
   "metadata": {},
   "outputs": [
    {
     "name": "stdout",
     "output_type": "stream",
     "text": [
      "Original float: 3.99\n",
      "After typecasting to int: 3\n"
     ]
    }
   ],
   "source": [
    "# Typecasting float to integer\n",
    "float_num = 3.99\n",
    "int_num = int(float_num)\n",
    "print(\"Original float:\", float_num)\n",
    "print(\"After typecasting to int:\", int_num)\n"
   ]
  },
  {
   "cell_type": "code",
   "execution_count": 156,
   "id": "d5f24a10",
   "metadata": {},
   "outputs": [
    {
     "name": "stdout",
     "output_type": "stream",
     "text": [
      "Enter something: 38\n",
      "The input is a number.\n"
     ]
    }
   ],
   "source": [
    "# Check if input is a number or string\n",
    "user_input = input(\"Enter something: \")\n",
    "if user_input.isdigit():\n",
    "    print(\"The input is a number.\")\n",
    "else:\n",
    "    print(\"The input is a string.\")\n"
   ]
  },
  {
   "cell_type": "code",
   "execution_count": 23,
   "id": "96648522",
   "metadata": {},
   "outputs": [
    {
     "name": "stdout",
     "output_type": "stream",
     "text": [
      "Length of list: 5\n",
      "Length of tuple: 3\n",
      "Length of dictionary: 3\n"
     ]
    }
   ],
   "source": [
    "# Calculate lengths\n",
    "my_list = [1, 2, 3, 4, 5]\n",
    "my_tuple = (10, 20, 30)\n",
    "my_dict = {\"name\": \"Alice\", \"age\": 25, \"city\": \"New York\"}\n",
    "\n",
    "print(\"Length of list:\", len(my_list))\n",
    "print(\"Length of tuple:\", len(my_tuple))\n",
    "print(\"Length of dictionary:\", len(my_dict))\n"
   ]
  },
  {
   "cell_type": "code",
   "execution_count": 42,
   "id": "ba72ddc9",
   "metadata": {},
   "outputs": [
    {
     "name": "stdout",
     "output_type": "stream",
     "text": [
      "The sum is: 74\n"
     ]
    }
   ],
   "source": [
    "x, y, z = 10, 34, 30\n",
    "total = x + y + z\n",
    "print(\"The sum is:\", total)\n"
   ]
  },
  {
   "cell_type": "code",
   "execution_count": 25,
   "id": "862d17bd",
   "metadata": {},
   "outputs": [
    {
     "name": "stdout",
     "output_type": "stream",
     "text": [
      "Swapped values: a = 10 , b = 5\n"
     ]
    }
   ],
   "source": [
    "a, b = 5, 10\n",
    "a, b = b, a\n",
    "print(\"Swapped values: a =\", a, \", b =\", b)\n"
   ]
  },
  {
   "cell_type": "code",
   "execution_count": 26,
   "id": "2eb3893d",
   "metadata": {},
   "outputs": [
    {
     "name": "stdout",
     "output_type": "stream",
     "text": [
      "Hello, World!\n"
     ]
    }
   ],
   "source": [
    "greeting = \"Hello\"\n",
    "name = \"World\"\n",
    "message = greeting + \", \" + name + \"!\"\n",
    "print(message)\n"
   ]
  },
  {
   "cell_type": "code",
   "execution_count": 27,
   "id": "75525dd3",
   "metadata": {},
   "outputs": [
    {
     "name": "stdout",
     "output_type": "stream",
     "text": [
      "Result after compound operations: 30\n"
     ]
    }
   ],
   "source": [
    "num = 10\n",
    "num += 5  # num = num + 5\n",
    "num *= 2  # num = num * 2\n",
    "print(\"Result after compound operations:\", num)\n"
   ]
  },
  {
   "cell_type": "markdown",
   "id": "edf1fee4",
   "metadata": {},
   "source": [
    "radius = 7\n",
    "area = 3.14 * radius**2\n",
    "print(\"Area of the circle:\", area)\n"
   ]
  },
  {
   "cell_type": "code",
   "execution_count": 29,
   "id": "69a87639",
   "metadata": {},
   "outputs": [
    {
     "name": "stdout",
     "output_type": "stream",
     "text": [
      "Roots of the quadratic equation are: 5.0 2.0\n"
     ]
    }
   ],
   "source": [
    "a, b, c = 1, -7, 10\n",
    "discriminant = b**2 - 4*a*c\n",
    "root1 = (-b + discriminant**0.5) / (2*a)\n",
    "root2 = (-b - discriminant**0.5) / (2*a)\n",
    "print(\"Roots of the quadratic equation are:\", root1, root2)\n"
   ]
  },
  {
   "cell_type": "code",
   "execution_count": 30,
   "id": "eb5dfc51",
   "metadata": {},
   "outputs": [
    {
     "name": "stdout",
     "output_type": "stream",
     "text": [
      "Memory location of value: 2243026251344\n"
     ]
    }
   ],
   "source": [
    "value = 42\n",
    "print(\"Memory location of value:\", id(value))\n"
   ]
  },
  {
   "cell_type": "code",
   "execution_count": 126,
   "id": "b0af048b",
   "metadata": {},
   "outputs": [
    {
     "name": "stdout",
     "output_type": "stream",
     "text": [
      "Hello, Alice! Welcome to Python programming.\n"
     ]
    }
   ],
   "source": [
    "name = \"Alice\"\n",
    "print(f\"Hello, {name}! Welcome to Python programming.\")\n"
   ]
  },
  {
   "cell_type": "code",
   "execution_count": 38,
   "id": "9bedad43",
   "metadata": {},
   "outputs": [
    {
     "name": "stdout",
     "output_type": "stream",
     "text": [
      "Result of the expression: True\n"
     ]
    }
   ],
   "source": [
    "x, y = 7, 12\n",
    "result = (x + y > 10) and (x * y > 20)\n",
    "print(\"Result of the expression:\", result)\n"
   ]
  },
  {
   "cell_type": "code",
   "execution_count": 37,
   "id": "2c576b4d",
   "metadata": {},
   "outputs": [
    {
     "name": "stdout",
     "output_type": "stream",
     "text": [
      "(a + b)^2 = 100\n"
     ]
    }
   ],
   "source": [
    "a, b = 6, 4\n",
    "result = (a + b)**2\n",
    "print(\"(a + b)^2 =\", result)\n"
   ]
  },
  {
   "cell_type": "code",
   "execution_count": 36,
   "id": "68aaadc4",
   "metadata": {},
   "outputs": [
    {
     "name": "stdout",
     "output_type": "stream",
     "text": [
      "zaynab naseer\n"
     ]
    }
   ],
   "source": [
    "str1 = \"zaynab\"\n",
    "str2 = \"naseer\"\n",
    "print(str1 + \" \" + str2)\n"
   ]
  },
  {
   "cell_type": "markdown",
   "id": "aab9c19c",
   "metadata": {},
   "source": [
    "# DAY TWO\n"
   ]
  },
  {
   "cell_type": "markdown",
   "id": "af9423ee",
   "metadata": {},
   "source": [
    "## Exercise 1: Strings"
   ]
  },
  {
   "cell_type": "code",
   "execution_count": 61,
   "id": "c43e6922",
   "metadata": {},
   "outputs": [
    {
     "name": "stdout",
     "output_type": "stream",
     "text": [
      "Hello Mrs Zaynab\n"
     ]
    }
   ],
   "source": [
    "# 1. Concatenate Strings\n",
    "\n",
    "\n",
    "result = \"Hello\" + \" \" + \"Mrs\" + \" \" + \"Zaynab\"\n",
    "print(result)\n"
   ]
  },
  {
   "cell_type": "code",
   "execution_count": 56,
   "id": "9970bb4a",
   "metadata": {},
   "outputs": [
    {
     "name": "stdout",
     "output_type": "stream",
     "text": [
      "24\n"
     ]
    }
   ],
   "source": [
    "#2. Find String Length\n",
    "\n",
    "\n",
    "text = \"Learn to code in Python!\"\n",
    "print(len(text))\n"
   ]
  },
  {
   "cell_type": "code",
   "execution_count": 59,
   "id": "7ad7bdcb",
   "metadata": {},
   "outputs": [
    {
     "name": "stdout",
     "output_type": "stream",
     "text": [
      "Program\n"
     ]
    }
   ],
   "source": [
    "#3. Extract Substring\n",
    "\n",
    "text = \"Python Programming\"\n",
    "print(text[7:14])  # Extract \"Program\"\n"
   ]
  },
  {
   "cell_type": "code",
   "execution_count": 60,
   "id": "bf22a46e",
   "metadata": {},
   "outputs": [
    {
     "name": "stdout",
     "output_type": "stream",
     "text": [
      "PYTHON ROCKS!\n",
      "python rocks!\n",
      "Python Rocks!\n"
     ]
    }
   ],
   "source": [
    "#4. Change Case\n",
    "\n",
    "text = \"Python Rocks!\"\n",
    "print(text.upper())\n",
    "print(text.lower())\n",
    "print(text.title())\n"
   ]
  },
  {
   "cell_type": "code",
   "execution_count": 62,
   "id": "2cac36a7",
   "metadata": {},
   "outputs": [
    {
     "name": "stdout",
     "output_type": "stream",
     "text": [
      "Python is not good\n"
     ]
    }
   ],
   "source": [
    "#5. Replace Substring\n",
    "text = \"Python is not bad\"\n",
    "print(text.replace(\"bad\", \"good\"))\n"
   ]
  },
  {
   "cell_type": "code",
   "execution_count": 63,
   "id": "793ebc49",
   "metadata": {},
   "outputs": [
    {
     "name": "stdout",
     "output_type": "stream",
     "text": [
      "False\n"
     ]
    }
   ],
   "source": [
    "# 6. Check Substring\n",
    "text = \"Coding is fun with Python\"\n",
    "print(\"code\" in text)\n"
   ]
  },
  {
   "cell_type": "code",
   "execution_count": 64,
   "id": "cc7e0e5b",
   "metadata": {},
   "outputs": [
    {
     "name": "stdout",
     "output_type": "stream",
     "text": [
      "nohtyP\n"
     ]
    }
   ],
   "source": [
    "# 7. Reverse String\n",
    "text = \"Python\"\n",
    "print(text[::-1])\n"
   ]
  },
  {
   "cell_type": "code",
   "execution_count": 65,
   "id": "dd6f0ff3",
   "metadata": {},
   "outputs": [
    {
     "name": "stdout",
     "output_type": "stream",
     "text": [
      "Learn-Python-the-easy-way\n"
     ]
    }
   ],
   "source": [
    "# 8. Split and Join\n",
    "text = \"Learn Python the easy way\"\n",
    "words = text.split()\n",
    "result = \"-\".join(words)\n",
    "print(result)\n"
   ]
  },
  {
   "cell_type": "code",
   "execution_count": 114,
   "id": "9e345d4c",
   "metadata": {},
   "outputs": [
    {
     "name": "stdout",
     "output_type": "stream",
     "text": [
      "6\n"
     ]
    }
   ],
   "source": [
    "# 9. count occurances\n",
    "text = \"banana apple avocado\"\n",
    "print(text.count('a'))\n"
   ]
  },
  {
   "cell_type": "code",
   "execution_count": 129,
   "id": "b3b6dfe7",
   "metadata": {},
   "outputs": [
    {
     "name": "stdout",
     "output_type": "stream",
     "text": [
      "I scored 95 in Python, which is awesome!\n"
     ]
    }
   ],
   "source": [
    "# 10. String Formatting .format method\n",
    "score = 95\n",
    "phyton_score = \"I scored {} in Python, which is awesome!\".format(score)\n",
    "print (phyton_score)"
   ]
  },
  {
   "cell_type": "code",
   "execution_count": 117,
   "id": "5f588742",
   "metadata": {},
   "outputs": [
    {
     "name": "stdout",
     "output_type": "stream",
     "text": [
      "I scored 95 in Python, which is awesome!\n"
     ]
    }
   ],
   "source": [
    "# 10. String Formatting f method\n",
    "\n",
    "score = 95\n",
    "phyton_score = (f\"I scored {score} in Python, which is awesome!\")\n",
    "print (phyton_score\n",
    "      )\n"
   ]
  },
  {
   "cell_type": "markdown",
   "id": "01655a40",
   "metadata": {},
   "source": [
    "## Exercise 2: Lists/Tuples"
   ]
  },
  {
   "cell_type": "code",
   "execution_count": 68,
   "id": "62bd7eb5",
   "metadata": {},
   "outputs": [
    {
     "name": "stdout",
     "output_type": "stream",
     "text": [
      "apple strawberry\n"
     ]
    }
   ],
   "source": [
    "# 1. Create and Print List\n",
    "\n",
    "fruits = [\"apple\", \"banana\", \"pineapple\", \"date\", \"strawberry\"]\n",
    "print(fruits[0], fruits[-1])  # First and last items\n"
   ]
  },
  {
   "cell_type": "code",
   "execution_count": 69,
   "id": "2c53281f",
   "metadata": {},
   "outputs": [
    {
     "name": "stdout",
     "output_type": "stream",
     "text": [
      "['apple', 'blueberry', 'date', 'strawberry', 'fig']\n"
     ]
    }
   ],
   "source": [
    "# 2. Modify List\n",
    "fruits = [\"apple\", \"banana\", \"cherry\", \"date\", \"strawberry\"]\n",
    "fruits.append(\"fig\")\n",
    "fruits.remove(\"cherry\")\n",
    "fruits[1] = \"blueberry\"\n",
    "print(fruits)\n"
   ]
  },
  {
   "cell_type": "code",
   "execution_count": 105,
   "id": "3ee335a9",
   "metadata": {},
   "outputs": [
    {
     "name": "stdout",
     "output_type": "stream",
     "text": [
      "['strawberry', 'pawpaw', 'date', 'cherry', 'banana', 'apple']\n"
     ]
    }
   ],
   "source": [
    "# 3. Sort and Reverse List\n",
    "\n",
    "fruits = [\"apple\",\"cherry\", \"banana\", \"pawpaw\" , \"date\", \"strawberry\"]\n",
    "fruits.sort()\n",
    "fruits.reverse()\n",
    "print(fruits)\n"
   ]
  },
  {
   "cell_type": "code",
   "execution_count": 71,
   "id": "546bdeef",
   "metadata": {},
   "outputs": [
    {
     "name": "stdout",
     "output_type": "stream",
     "text": [
      "['Python', 'Java', 'C++']\n"
     ]
    }
   ],
   "source": [
    "# 4. Slice List\n",
    "languages = [\"Python\", \"Java\", \"C++\", \"Ruby\", \"Go\"]\n",
    "print(languages[:3])\n"
   ]
  },
  {
   "cell_type": "code",
   "execution_count": 72,
   "id": "df928dcc",
   "metadata": {},
   "outputs": [
    {
     "name": "stdout",
     "output_type": "stream",
     "text": [
      "150\n"
     ]
    }
   ],
   "source": [
    "# 5. Sum of List\n",
    "\n",
    "numbers = [10, 20, 30, 40, 50]\n",
    "print(sum(numbers))\n"
   ]
  },
  {
   "cell_type": "code",
   "execution_count": 73,
   "id": "cfea4e32",
   "metadata": {},
   "outputs": [
    {
     "name": "stdout",
     "output_type": "stream",
     "text": [
      "50 10\n"
     ]
    }
   ],
   "source": [
    "# 6. Tuple Creation\n",
    "numbers = (10, 20, 30, 40, 50)\n",
    "print(max(numbers), min(numbers))\n"
   ]
  },
  {
   "cell_type": "code",
   "execution_count": 75,
   "id": "c2cea6d7",
   "metadata": {},
   "outputs": [
    {
     "name": "stdout",
     "output_type": "stream",
     "text": [
      "('red', 'green', 'blue', 'white', 'black', 'yellow')\n"
     ]
    }
   ],
   "source": [
    "# 7. Convert List to Tuple\n",
    "\n",
    "colors = [\"red\", \"green\", \"blue\", \"white\", \"black\", \"yellow\"]\n",
    "colors_tuple = tuple(colors)\n",
    "print(colors_tuple)\n"
   ]
  },
  {
   "cell_type": "code",
   "execution_count": 76,
   "id": "6a94d49b",
   "metadata": {},
   "outputs": [
    {
     "name": "stdout",
     "output_type": "stream",
     "text": [
      "1 2 3\n"
     ]
    }
   ],
   "source": [
    "# 8. Unpack Tuple\n",
    "\n",
    "tup = (1, 2, 3)\n",
    "a, b, c = tup\n",
    "print(a, b, c)\n"
   ]
  },
  {
   "cell_type": "code",
   "execution_count": 78,
   "id": "6a552025",
   "metadata": {},
   "outputs": [
    {
     "name": "stdout",
     "output_type": "stream",
     "text": [
      "[1, 4, 9, 16, 25, 36, 49, 64, 81, 100, 121, 144]\n"
     ]
    }
   ],
   "source": [
    "# 9. List Comprehension\n",
    "\n",
    "squares = [x**2 for x in range(1, 13)]\n",
    "print(squares)\n"
   ]
  },
  {
   "cell_type": "code",
   "execution_count": 79,
   "id": "6d2c8549",
   "metadata": {},
   "outputs": [
    {
     "name": "stdout",
     "output_type": "stream",
     "text": [
      "2\n"
     ]
    }
   ],
   "source": [
    "# 10. Find Index\n",
    "\n",
    "languages = [\"Python\", \"Java\", \"C++\", \"Ruby\", \"Go\"]\n",
    "print(languages.index(\"C++\"))\n"
   ]
  },
  {
   "cell_type": "markdown",
   "id": "eb537dae",
   "metadata": {},
   "source": [
    "## Exercise 3: Dictionaries\n"
   ]
  },
  {
   "cell_type": "code",
   "execution_count": 80,
   "id": "4b9b131b",
   "metadata": {},
   "outputs": [
    {
     "name": "stdout",
     "output_type": "stream",
     "text": [
      "{'name': 'Alice', 'age': 25, 'city': 'New York'}\n"
     ]
    }
   ],
   "source": [
    "# 1. Create Dictionary\n",
    "\n",
    "person = {\"name\": \"Alice\", \"age\": 25, \"city\": \"New York\"}\n",
    "print(person)\n"
   ]
  },
  {
   "cell_type": "code",
   "execution_count": 81,
   "id": "1ae100f5",
   "metadata": {},
   "outputs": [
    {
     "name": "stdout",
     "output_type": "stream",
     "text": [
      "New York\n"
     ]
    }
   ],
   "source": [
    "# 2. Access Value\n",
    "print(person[\"city\"])\n"
   ]
  },
  {
   "cell_type": "code",
   "execution_count": 82,
   "id": "c2c19f77",
   "metadata": {},
   "outputs": [
    {
     "name": "stdout",
     "output_type": "stream",
     "text": [
      "{'name': 'Alice', 'age': 30, 'city': 'New York'}\n"
     ]
    }
   ],
   "source": [
    "# 3. Update Value\n",
    "person[\"age\"] = 30\n",
    "print(person)\n"
   ]
  },
  {
   "cell_type": "code",
   "execution_count": 83,
   "id": "cd70a816",
   "metadata": {},
   "outputs": [
    {
     "name": "stdout",
     "output_type": "stream",
     "text": [
      "{'name': 'Alice', 'age': 30, 'city': 'New York', 'country': 'USA'}\n"
     ]
    }
   ],
   "source": [
    "# 4. Add Key-Value Pair\n",
    "\n",
    "person[\"country\"] = \"USA\"\n",
    "print(person)\n"
   ]
  },
  {
   "cell_type": "code",
   "execution_count": 85,
   "id": "f9507e3e",
   "metadata": {},
   "outputs": [
    {
     "name": "stdout",
     "output_type": "stream",
     "text": [
      "{'name': 'Alice', 'age': 30, 'country': 'USA'}\n"
     ]
    }
   ],
   "source": [
    "# 5. Delete Key\n",
    "\n",
    "del person[\"city\"]\n",
    "print(person)\n"
   ]
  },
  {
   "cell_type": "code",
   "execution_count": 86,
   "id": "2d0b2c32",
   "metadata": {},
   "outputs": [
    {
     "name": "stdout",
     "output_type": "stream",
     "text": [
      "True\n"
     ]
    }
   ],
   "source": [
    "# 6. Check Key Existence\n",
    "\n",
    "print(\"name\" in person)\n"
   ]
  },
  {
   "cell_type": "code",
   "execution_count": 87,
   "id": "144c94f1",
   "metadata": {},
   "outputs": [
    {
     "name": "stdout",
     "output_type": "stream",
     "text": [
      "name: Alice\n",
      "age: 30\n",
      "country: USA\n"
     ]
    }
   ],
   "source": [
    "# 7. Iterate Dictionary\n",
    "\n",
    "for key, value in person.items():\n",
    "    print(f\"{key}: {value}\")\n"
   ]
  },
  {
   "cell_type": "code",
   "execution_count": 88,
   "id": "25f0645b",
   "metadata": {},
   "outputs": [
    {
     "name": "stdout",
     "output_type": "stream",
     "text": [
      "{'x': 1, 'y': 3, 'z': 4}\n"
     ]
    }
   ],
   "source": [
    "# 8. Merge Dictionaries\n",
    "\n",
    "dict1 = {\"x\": 1, \"y\": 2}\n",
    "dict2 = {\"y\": 3, \"z\": 4}\n",
    "merged = {**dict1, **dict2}\n",
    "print(merged)\n"
   ]
  },
  {
   "cell_type": "code",
   "execution_count": 89,
   "id": "070b9465",
   "metadata": {},
   "outputs": [
    {
     "name": "stdout",
     "output_type": "stream",
     "text": [
      "['Python', 'Java', 'C++'] [1991, 1995, 1985]\n"
     ]
    }
   ],
   "source": [
    "# 9. Dictionary Keys and Values\n",
    "\n",
    "lang_years = {\"Python\": 1991, \"Java\": 1995, \"C++\": 1985}\n",
    "print(list(lang_years.keys()), list(lang_years.values()))\n"
   ]
  },
  {
   "cell_type": "code",
   "execution_count": 90,
   "id": "338c0856",
   "metadata": {},
   "outputs": [
    {
     "name": "stdout",
     "output_type": "stream",
     "text": [
      "{1: 1, 2: 4, 3: 9, 4: 16, 5: 25}\n"
     ]
    }
   ],
   "source": [
    "# 10. Dictionary Comprehension\n",
    "\n",
    "squares = {x: x**2 for x in range(1, 6)}\n",
    "print(squares)\n"
   ]
  },
  {
   "cell_type": "markdown",
   "id": "f096ae46",
   "metadata": {},
   "source": [
    "## Exercise 4: Sets\n",
    "\n",
    "\n"
   ]
  },
  {
   "cell_type": "code",
   "execution_count": 91,
   "id": "7551763d",
   "metadata": {},
   "outputs": [
    {
     "name": "stdout",
     "output_type": "stream",
     "text": [
      "{'blue', 'green', 'red'}\n"
     ]
    }
   ],
   "source": [
    "# 1. Create and Print Set\n",
    "\n",
    "colors = {\"red\", \"green\", \"blue\"}\n",
    "print(colors)"
   ]
  },
  {
   "cell_type": "code",
   "execution_count": 92,
   "id": "4e438e9d",
   "metadata": {},
   "outputs": [
    {
     "name": "stdout",
     "output_type": "stream",
     "text": [
      "{'blue', 'green', 'yellow', 'red'}\n"
     ]
    }
   ],
   "source": [
    "# 2. Add Element\n",
    "\n",
    "colors.add(\"yellow\")\n",
    "print(colors)\n"
   ]
  },
  {
   "cell_type": "code",
   "execution_count": 93,
   "id": "f88ec2d4",
   "metadata": {},
   "outputs": [
    {
     "name": "stdout",
     "output_type": "stream",
     "text": [
      "{'blue', 'yellow', 'red'}\n"
     ]
    }
   ],
   "source": [
    "# 3. Remove Element\n",
    "\n",
    "colors.remove(\"green\")\n",
    "print(colors)\n"
   ]
  },
  {
   "cell_type": "code",
   "execution_count": 130,
   "id": "7f332b5b",
   "metadata": {},
   "outputs": [
    {
     "name": "stdout",
     "output_type": "stream",
     "text": [
      "True\n"
     ]
    }
   ],
   "source": [
    "# 4. Check Membership\n",
    "\n",
    "print(\"blue\" in colors)"
   ]
  },
  {
   "cell_type": "code",
   "execution_count": 95,
   "id": "087600c9",
   "metadata": {},
   "outputs": [
    {
     "name": "stdout",
     "output_type": "stream",
     "text": [
      "{1, 2, 3, 4, 5}\n"
     ]
    }
   ],
   "source": [
    "# 5. Union of Sets\n",
    "\n",
    "set1 = {1, 2, 3}\n",
    "set2 = {3, 4, 5}\n",
    "print(set1 | set2)\n"
   ]
  },
  {
   "cell_type": "code",
   "execution_count": 96,
   "id": "e1de722c",
   "metadata": {},
   "outputs": [
    {
     "name": "stdout",
     "output_type": "stream",
     "text": [
      "{3}\n"
     ]
    }
   ],
   "source": [
    "# 6. Intersection of Sets\n",
    "\n",
    "print(set1 & set2)\n"
   ]
  },
  {
   "cell_type": "code",
   "execution_count": 97,
   "id": "0f486a27",
   "metadata": {},
   "outputs": [
    {
     "name": "stdout",
     "output_type": "stream",
     "text": [
      "{1, 2}\n"
     ]
    }
   ],
   "source": [
    "#7. Difference of Sets\n",
    "print(set1 - set2)\n"
   ]
  },
  {
   "cell_type": "code",
   "execution_count": 98,
   "id": "94fc071f",
   "metadata": {},
   "outputs": [
    {
     "name": "stdout",
     "output_type": "stream",
     "text": [
      "5\n"
     ]
    }
   ],
   "source": [
    "# 8. Set Length\n",
    "\n",
    "print(len({1, 2, 3, 4, 5}))\n"
   ]
  },
  {
   "cell_type": "code",
   "execution_count": 99,
   "id": "a8eeb661",
   "metadata": {},
   "outputs": [
    {
     "name": "stdout",
     "output_type": "stream",
     "text": [
      "True True\n"
     ]
    }
   ],
   "source": [
    "#9. Set Operations\n",
    "set1 = {1, 2}\n",
    "set2 = {1, 2, 3, 4}\n",
    "print(set1.issubset(set2), set2.issuperset(set1))\n",
    "\n"
   ]
  },
  {
   "cell_type": "code",
   "execution_count": 100,
   "id": "3b8267fa",
   "metadata": {},
   "outputs": [
    {
     "name": "stdout",
     "output_type": "stream",
     "text": [
      "{1, 2, 3, 4}\n"
     ]
    }
   ],
   "source": [
    "# 10. Convert List to Set\n",
    "numbers = [1, 2, 2, 3, 4, 4]\n",
    "unique_numbers = set(numbers)\n",
    "print(unique_numbers)"
   ]
  },
  {
   "cell_type": "markdown",
   "id": "7856d0a5",
   "metadata": {},
   "source": [
    "# DAY 3"
   ]
  },
  {
   "cell_type": "markdown",
   "id": "6c44edb9",
   "metadata": {},
   "source": [
    "## FUNCTIONS"
   ]
  },
  {
   "cell_type": "code",
   "execution_count": 161,
   "id": "1021fdbc",
   "metadata": {},
   "outputs": [],
   "source": [
    "def add(z):\n",
    "  \"\"\" sums whatsoever number you provide 1 \"\"\"\n",
    "  n = z + 1\n",
    "  print(z,\"if you add one\",n)\n",
    "  print(n )"
   ]
  },
  {
   "cell_type": "code",
   "execution_count": 160,
   "id": "b66b44e9",
   "metadata": {},
   "outputs": [],
   "source": [
    "def con(a,b):\n",
    "    return(a+b)"
   ]
  },
  {
   "cell_type": "markdown",
   "id": "0550df82",
   "metadata": {},
   "source": [
    "## CLASS PRACTICALS"
   ]
  },
  {
   "cell_type": "code",
   "execution_count": null,
   "id": "705699c4",
   "metadata": {},
   "outputs": [],
   "source": []
  }
 ],
 "metadata": {
  "kernelspec": {
   "display_name": "Python 3 (ipykernel)",
   "language": "python",
   "name": "python3"
  },
  "language_info": {
   "codemirror_mode": {
    "name": "ipython",
    "version": 3
   },
   "file_extension": ".py",
   "mimetype": "text/x-python",
   "name": "python",
   "nbconvert_exporter": "python",
   "pygments_lexer": "ipython3",
   "version": "3.9.13"
  }
 },
 "nbformat": 4,
 "nbformat_minor": 5
}
